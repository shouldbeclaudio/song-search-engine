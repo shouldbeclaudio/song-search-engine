{
 "cells": [
  {
   "cell_type": "code",
   "execution_count": 1,
   "id": "e56fe9f4",
   "metadata": {},
   "outputs": [],
   "source": [
    "from song_search import song_search"
   ]
  },
  {
   "cell_type": "code",
   "execution_count": null,
   "id": "5e167556",
   "metadata": {},
   "outputs": [
    {
     "name": "stdout",
     "output_type": "stream",
     "text": [
      "Enter a song title (type 'exit' to quit): wrong\n",
      "The song 'wrong' was not found in the chart.\n",
      "Enter a song title (type 'exit' to quit): yes sir\n",
      "The song 'yes sir' was not found in the chart.\n",
      "Enter a song title (type 'exit' to quit): blinding lights\n",
      "The song 'blinding lights' is ranked #1 in the chart.\n"
     ]
    }
   ],
   "source": [
    "# In this while loop, when we type besides exit or quit, the right input, it returns a message with the song title\n",
    "# and the position, if the input is wrong, it returns -1 from the list index with a message was not found in the chart.\n",
    "while True:\n",
    "    song_title = input(\"Enter a song title (type 'exit' to quit): \")\n",
    "    if song_title.lower() == \"exit\":\n",
    "        break\n",
    "    \n",
    "    position = song_search(song_title)\n",
    "    if position == -1:\n",
    "        print(f\"The song '{song_title}' was not found in the chart.\")\n",
    "    else:\n",
    "        print(f\"The song '{song_title}' is ranked #{position} in the chart.\")"
   ]
  },
  {
   "cell_type": "code",
   "execution_count": null,
   "id": "5ae4de15",
   "metadata": {},
   "outputs": [],
   "source": []
  }
 ],
 "metadata": {
  "kernelspec": {
   "display_name": "Python 3 (ipykernel)",
   "language": "python",
   "name": "python3"
  },
  "language_info": {
   "codemirror_mode": {
    "name": "ipython",
    "version": 3
   },
   "file_extension": ".py",
   "mimetype": "text/x-python",
   "name": "python",
   "nbconvert_exporter": "python",
   "pygments_lexer": "ipython3",
   "version": "3.10.9"
  }
 },
 "nbformat": 4,
 "nbformat_minor": 5
}
