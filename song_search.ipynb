{
 "cells": [
  {
   "cell_type": "code",
   "execution_count": 21,
   "id": "549d13c0",
   "metadata": {},
   "outputs": [],
   "source": [
    "import requests\n",
    "from bs4 import BeautifulSoup"
   ]
  },
  {
   "cell_type": "code",
   "execution_count": 22,
   "id": "89426020",
   "metadata": {},
   "outputs": [],
   "source": [
    "def song_search(song_title):\n",
    "    url = \"https://www.billboard.com/charts/greatest-hot-100-singles/\"\n",
    "\n",
    "    response = requests.get(url)\n",
    "    soup = BeautifulSoup(response.content, \"html.parser\")\n",
    "\n",
    "    # This variable is selecting the clean code to list the music's\n",
    "    chart_items = soup.select(\"ul > li.o-chart-results-list__item\")\n",
    "\n",
    "    songs = []\n",
    "    \n",
    "    # In this for loop, it search the soup.select and clean it for just gave me an title and artist\n",
    "    for item in chart_items:\n",
    "        title = item.find(\"h3\")\n",
    "        if title:\n",
    "            title_text = title.get_text().strip()\n",
    "            artist = item.find_all(\"span\")[-1].get_text().strip()\n",
    "            songs.append({\"title\": title_text, \"artist\": artist})\n",
    "    \n",
    "    # this for loop uses the enumerate() as a dictionary list where each dictionary \n",
    "    # represents a song and has a key 'title' with the song title as the value.\n",
    "    # if it finds the song it returns the i, if not it returns -1 from the list\n",
    "    for i, song in enumerate(songs, 1):\n",
    "        if song_title.lower() == song['title'].lower():\n",
    "            return i\n",
    "\n",
    "    return -1"
   ]
  }
 ],
 "metadata": {
  "kernelspec": {
   "display_name": "Python 3 (ipykernel)",
   "language": "python",
   "name": "python3"
  },
  "language_info": {
   "codemirror_mode": {
    "name": "ipython",
    "version": 3
   },
   "file_extension": ".py",
   "mimetype": "text/x-python",
   "name": "python",
   "nbconvert_exporter": "python",
   "pygments_lexer": "ipython3",
   "version": "3.10.9"
  }
 },
 "nbformat": 4,
 "nbformat_minor": 5
}
